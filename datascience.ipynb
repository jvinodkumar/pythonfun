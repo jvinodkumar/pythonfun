{
 "cells": [
  {
   "cell_type": "code",
   "execution_count": 30,
   "metadata": {},
   "outputs": [
    {
     "data": {
      "image/png": "[encoded data removed]",
      "text/plain": [
       "<matplotlib.figure.Figure at 0x10f806978>"
      ]
     },
     "metadata": {},
     "output_type": "display_data"
    }
   ],
   "source": [
    "import numpy as np\n",
    "import matplotlib.pyplot as plt\n",
    "from scipy import stats\n",
    "\n",
    "\n",
    "\n",
    "incomes = np.random.normal(27000,15000,10000)\n",
    "plt.hist(incomes,100)\n",
    "plt.show()\n",
    "\n",
    "\n",
    "\n"
   ]
  },
  {
   "cell_type": "code",
   "execution_count": 15,
   "metadata": {},
   "outputs": [
    {
     "data": {
      "text/plain": [
       "27056.323969502217"
      ]
     },
     "execution_count": 15,
     "metadata": {},
     "output_type": "execute_result"
    }
   ],
   "source": [
    "np.mean(incomes)"
   ]
  },
  {
   "cell_type": "code",
   "execution_count": 16,
   "metadata": {},
   "outputs": [
    {
     "data": {
      "text/plain": [
       "27193.300502320217"
      ]
     },
     "execution_count": 16,
     "metadata": {},
     "output_type": "execute_result"
    }
   ],
   "source": [
    "np.median(incomes)"
   ]
  },
  {
   "cell_type": "code",
   "execution_count": 31,
   "metadata": {},
   "outputs": [],
   "source": [
    "incomes=np.append(incomes,50000)"
   ]
  },
  {
   "cell_type": "code",
   "execution_count": 32,
   "metadata": {},
   "outputs": [
    {
     "data": {
      "text/plain": [
       "ModeResult(mode=array([-29562.57973325]), count=array([1]))"
      ]
     },
     "execution_count": 32,
     "metadata": {},
     "output_type": "execute_result"
    }
   ],
   "source": [
    "stats.mode(incomes)"
   ]
  },
  {
   "cell_type": "code",
   "execution_count": 28,
   "metadata": {},
   "outputs": [
    {
     "data": {
      "text/plain": [
       "array([22, 67, 52, 43, 26, 59, 67, 48, 84, 44, 52, 85, 66, 33, 89, 32, 57,\n",
       "       40, 70, 38, 30, 74, 64, 89, 74, 30, 87, 61, 72, 87, 21, 33, 84, 20,\n",
       "       35, 79, 61, 84, 85, 34, 74, 23, 68, 85, 82, 51, 32, 54, 42, 61, 81,\n",
       "       23, 37, 64, 57, 37, 63, 63, 36, 30, 88, 18, 49, 31, 31, 74, 86, 30,\n",
       "       81, 44, 38, 22, 82, 83, 33, 25, 19, 75, 37, 82, 70, 34, 52, 31, 76,\n",
       "       71, 77, 81, 78, 31, 40, 57, 38, 36, 37, 87, 33, 52, 48, 74, 74, 83,\n",
       "       75, 55, 49, 49, 40, 78, 65, 25, 19, 53, 87, 83, 23, 89, 30, 20, 43,\n",
       "       86, 59, 64, 31, 80, 50, 74, 80, 63, 48, 44, 35, 43, 87, 27, 50, 54,\n",
       "       21, 72, 87, 30, 54, 86, 27, 30, 51, 63, 56, 65, 44, 84, 58, 50, 76,\n",
       "       69, 38, 84, 63, 50, 72, 28, 88, 62, 82, 83, 88, 81, 56, 40, 42, 35,\n",
       "       65, 88, 31, 70, 75, 60, 82, 31, 36, 35, 69, 66, 64, 56, 66, 50, 26,\n",
       "       70, 47, 45, 47, 50, 72, 54, 38, 39, 34, 38, 26, 54, 37, 51, 28, 22,\n",
       "       22, 29, 66, 22, 52, 31, 37, 22, 44, 86, 67, 50, 29, 56, 80, 21, 80,\n",
       "       37, 80, 39, 18, 30, 84, 30, 70, 47, 81, 27, 78, 61, 40, 75, 47, 58,\n",
       "       41, 43, 57, 31, 43, 87, 25, 58, 72, 58, 68, 43, 38, 71, 72, 65, 39,\n",
       "       47, 35, 48, 37, 21, 32, 21, 78, 28, 55, 18, 82, 60, 67, 43, 24, 25,\n",
       "       31, 72, 20, 24, 42, 85, 41, 32, 29, 32, 59, 84, 51, 66, 34, 25, 24,\n",
       "       44, 54, 31, 73, 76, 78, 19, 24, 35, 30, 42, 85, 30, 66, 24, 19, 42,\n",
       "       87, 80, 25, 33, 67, 49, 78, 51, 61, 19, 62, 33, 26, 42, 44, 68, 19,\n",
       "       62, 81, 51, 58, 42, 18, 21, 82, 29, 77, 78, 77, 46, 46, 71, 37, 85,\n",
       "       52, 21, 63, 35, 58, 60, 71, 42, 49, 33, 28, 51, 29, 69, 58, 47, 75,\n",
       "       38, 62, 63, 41, 49, 38, 26, 45, 89, 18, 27, 58, 87, 84, 84, 30, 41,\n",
       "       76, 51, 26, 42, 55, 89, 25, 50, 69, 31, 33, 61, 64, 85, 25, 25, 24,\n",
       "       20, 76, 38, 43, 60, 48, 37, 64, 81, 79, 25, 59, 83, 89, 78, 18, 32,\n",
       "       66, 61, 24, 44, 34, 74, 55, 39, 56, 54, 52, 46, 76, 68, 45, 79, 87,\n",
       "       71, 42, 81, 46, 76, 87, 36, 73, 55, 77, 24, 41, 80, 77, 47, 35, 26,\n",
       "       54, 82, 29, 88, 27, 56, 22, 44, 39, 67, 25, 87, 87, 23, 77, 39, 69,\n",
       "       55, 48, 32, 74, 49, 63, 46, 54, 68, 21, 72, 88, 63, 65, 59, 19, 68,\n",
       "       27, 69, 22, 59, 71, 31, 39, 61, 70, 27, 45, 29, 18, 29, 49, 89, 89,\n",
       "       74, 69, 78, 61, 42, 88, 48])"
      ]
     },
     "execution_count": 28,
     "metadata": {},
     "output_type": "execute_result"
    }
   ],
   "source": [
    "ages = np.random.randint(18,high=90,size=500)\n",
    "ages"
   ]
  },
  {
   "cell_type": "code",
   "execution_count": 29,
   "metadata": {},
   "outputs": [
    {
     "data": {
      "text/plain": [
       "ModeResult(mode=array([31]), count=array([13]))"
      ]
     },
     "execution_count": 29,
     "metadata": {},
     "output_type": "execute_result"
    }
   ],
   "source": [
    "stats.mode(ages)"
   ]
  },
  {
   "cell_type": "code",
   "execution_count": 33,
   "metadata": {},
   "outputs": [
    {
     "data": {
      "text/plain": [
       "15274.366021135489"
      ]
     },
     "execution_count": 33,
     "metadata": {},
     "output_type": "execute_result"
    }
   ],
   "source": [
    "# Standard Deviation & Variance\n",
    "\n",
    "incomes.std()"
   ]
  },
  {
   "cell_type": "code",
   "execution_count": 36,
   "metadata": {},
   "outputs": [
    {
     "data": {
      "text/plain": [
       "233306257.34761837"
      ]
     },
     "execution_count": 36,
     "metadata": {},
     "output_type": "execute_result"
    }
   ],
   "source": [
    "incomes.var()"
   ]
  },
  {
   "cell_type": "code",
   "execution_count": null,
   "metadata": {},
   "outputs": [
    {
     "data": {
      "text/plain": [
       "155.59522762587059"
      ]
     },
     "execution_count": 41,
     "metadata": {},
     "output_type": "execute_result"
    }
   ],
   "source": [
    "#arg1 = center of the distribution, arg2 = standard deviation/spread /width of the distribution, argd=number of random values to be generated in distribution\n",
    "inc = np.random.normal(50,5,100)\n",
    "inc.std()"
   ]
  },
  {
   "cell_type": "code",
   "execution_count": null,
   "metadata": {},
   "outputs": [
    {
     "data": {
      "text/plain": [
       "24209.874859946482"
      ]
     },
     "execution_count": 42,
     "metadata": {},
     "output_type": "execute_result"
    }
   ],
   "source": [
    "inc.var()"
   ]
  },
  {
   "cell_type": "code",
   "execution_count": null,
   "metadata": {
    "collapsed": true
   },
   "outputs": [],
   "source": []
  }
 ],
 "metadata": {
  "kernelspec": {
   "display_name": "Python 3",
   "language": "python",
   "name": "python3"
  },
  "language_info": {
   "codemirror_mode": {
    "name": "ipython",
    "version": 3
   },
   "file_extension": ".py",
   "mimetype": "text/x-python",
   "name": "python",
   "nbconvert_exporter": "python",
   "pygments_lexer": "ipython3",
   "version": "3.6.1"
  }
 },
 "nbformat": 4,
 "nbformat_minor": 1
}
